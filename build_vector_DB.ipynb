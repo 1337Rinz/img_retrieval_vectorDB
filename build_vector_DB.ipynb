{
  "nbformat": 4,
  "nbformat_minor": 0,
  "metadata": {
    "colab": {
      "provenance": [],
      "authorship_tag": "ABX9TyO8Tztku21AYXoazpaf0vF8",
      "include_colab_link": true
    },
    "kernelspec": {
      "name": "python3",
      "display_name": "Python 3"
    },
    "language_info": {
      "name": "python"
    }
  },
  "cells": [
    {
      "cell_type": "markdown",
      "metadata": {
        "id": "view-in-github",
        "colab_type": "text"
      },
      "source": [
        "<a href=\"https://colab.research.google.com/github/1337Rinz/img_retrieval_vectorDB/blob/main/build_vector_DB.ipynb\" target=\"_parent\"><img src=\"https://colab.research.google.com/assets/colab-badge.svg\" alt=\"Open In Colab\"/></a>"
      ]
    },
    {
      "cell_type": "markdown",
      "source": [
        "#faiss\n"
      ],
      "metadata": {
        "id": "a83BgRa5Xz6C"
      }
    },
    {
      "cell_type": "markdown",
      "source": [
        "Facebook AI Similarity Search (Faiss) là một thư viện sử dụng similiarity search cùng với clustering các vector."
      ],
      "metadata": {
        "id": "XPaYjMSoXQiO"
      }
    },
    {
      "cell_type": "code",
      "execution_count": 1,
      "metadata": {
        "colab": {
          "base_uri": "https://localhost:8080/"
        },
        "id": "UnK8Zi6RUnoP",
        "outputId": "17116be1-c437-47fe-953f-5436be010646"
      },
      "outputs": [
        {
          "output_type": "stream",
          "name": "stdout",
          "text": [
            "Collecting faiss-cpu\n",
            "  Downloading faiss_cpu-1.8.0.post1-cp310-cp310-manylinux_2_17_x86_64.manylinux2014_x86_64.whl (27.0 MB)\n",
            "\u001b[2K     \u001b[90m━━━━━━━━━━━━━━━━━━━━━━━━━━━━━━━━━━━━━━━━\u001b[0m \u001b[32m27.0/27.0 MB\u001b[0m \u001b[31m15.7 MB/s\u001b[0m eta \u001b[36m0:00:00\u001b[0m\n",
            "\u001b[?25hRequirement already satisfied: numpy<2.0,>=1.0 in /usr/local/lib/python3.10/dist-packages (from faiss-cpu) (1.25.2)\n",
            "Requirement already satisfied: packaging in /usr/local/lib/python3.10/dist-packages (from faiss-cpu) (24.1)\n",
            "Installing collected packages: faiss-cpu\n",
            "Successfully installed faiss-cpu-1.8.0.post1\n"
          ]
        }
      ],
      "source": [
        "!pip install faiss-cpu"
      ]
    },
    {
      "cell_type": "code",
      "source": [
        "import faiss\n",
        "import numpy as np"
      ],
      "metadata": {
        "id": "j_Cg0wFzW_fE"
      },
      "execution_count": 2,
      "outputs": []
    },
    {
      "cell_type": "markdown",
      "source": [
        "##Tạo một vectorDB và thêm dữ liệu vào\n",
        "\n"
      ],
      "metadata": {
        "id": "-KPeOFSVXbLX"
      }
    },
    {
      "cell_type": "code",
      "source": [
        "# Tạo một bộ dữ liệu giả\n",
        "d = 128                           # Chiều của vector\n",
        "nb = 1000                         # Số lượng vector trong bộ dữ liệu\n",
        "np.random.seed(1234)              # Đặt seed cho tính ngẫu nhiên\n",
        "xb = np.random.random((nb, d)).astype('float32')\n",
        "xb[:, 0] += np.arange(nb) / 1000.\n",
        "\n",
        "# Tạo index\n",
        "index = faiss.IndexFlatL2(d)      # L2 distance index\n",
        "print(index.is_trained)\n",
        "index.add(xb)                     # Thêm vector vào index\n",
        "print(index.ntotal)"
      ],
      "metadata": {
        "colab": {
          "base_uri": "https://localhost:8080/"
        },
        "id": "QImhCl5zXSyQ",
        "outputId": "f2443f37-f79d-4c64-f248-8444091f94ef"
      },
      "execution_count": 3,
      "outputs": [
        {
          "output_type": "stream",
          "name": "stdout",
          "text": [
            "True\n",
            "1000\n"
          ]
        }
      ]
    },
    {
      "cell_type": "markdown",
      "source": [
        "##Tìm kiếm các vector tương tự"
      ],
      "metadata": {
        "id": "7NI5hnbyXds8"
      }
    },
    {
      "cell_type": "code",
      "source": [
        "# Tạo các vector cần tìm kiếm\n",
        "nq = 10                           # Số lượng vector truy vấn\n",
        "xq = np.random.random((nq, d)).astype('float32')\n",
        "xq[:, 0] += np.arange(nq) / 1000.\n",
        "\n",
        "# Tìm kiếm\n",
        "k = 4                             # Số lượng vector gần nhất cần tìm\n",
        "D, I = index.search(xq, k)        # D là khoảng cách, I là chỉ số của vector gần nhất\n",
        "\n",
        "print(I)\n",
        "print(D)\n"
      ],
      "metadata": {
        "colab": {
          "base_uri": "https://localhost:8080/"
        },
        "id": "suhJxF6LXfWi",
        "outputId": "91e71b91-9947-482c-d523-2b2ec9f35086"
      },
      "execution_count": 4,
      "outputs": [
        {
          "output_type": "stream",
          "name": "stdout",
          "text": [
            "[[631 345 947 331]\n",
            " [568 443 933 583]\n",
            " [540 462 349 901]\n",
            " [694 131 564  92]\n",
            " [ 94 477  61  42]\n",
            " [319 444 792 182]\n",
            " [671  62 693 485]\n",
            " [263  49 546 552]\n",
            " [930 214  97 835]\n",
            " [266 655 206 271]]\n",
            "[[13.80421   14.963522  15.179419  15.210806 ]\n",
            " [14.912462  15.244122  15.992789  15.995716 ]\n",
            " [15.650552  16.897297  17.99605   18.100945 ]\n",
            " [14.553017  14.594555  14.786146  14.819241 ]\n",
            " [16.726444  16.758434  16.829638  16.939337 ]\n",
            " [12.676683  15.317959  15.351387  15.539641 ]\n",
            " [15.94039   16.315487  16.320164  16.892683 ]\n",
            " [13.477825  14.249644  14.252818  14.480717 ]\n",
            " [11.693054  15.345835  15.357733  15.582954 ]\n",
            " [14.892674  15.7037735 16.854427  16.984077 ]]\n"
          ]
        }
      ]
    },
    {
      "cell_type": "markdown",
      "source": [
        "#annoy"
      ],
      "metadata": {
        "id": "25zMd51UX6If"
      }
    },
    {
      "cell_type": "markdown",
      "source": [
        "Annoy là một thư viện được phát triển bởi Spotify, sử dụng để tìm kiếm vector tương tự bằng cách sử dụng các cây tìm kiếm (trees). Annoy rất hiệu quả cho các ứng dụng với dữ liệu lớn và có thể sử dụng bộ nhớ ít hơn.\n",
        "\n"
      ],
      "metadata": {
        "id": "GTej7O26X8X5"
      }
    },
    {
      "cell_type": "code",
      "source": [
        "!pip install annoy"
      ],
      "metadata": {
        "colab": {
          "base_uri": "https://localhost:8080/"
        },
        "id": "bC9nDClLX82e",
        "outputId": "00177967-58e3-4a61-a1cb-21b3a53fc498"
      },
      "execution_count": 5,
      "outputs": [
        {
          "output_type": "stream",
          "name": "stdout",
          "text": [
            "Collecting annoy\n",
            "  Downloading annoy-1.17.3.tar.gz (647 kB)\n",
            "\u001b[2K     \u001b[90m━━━━━━━━━━━━━━━━━━━━━━━━━━━━━━━━━━━━━━━━\u001b[0m \u001b[32m647.5/647.5 kB\u001b[0m \u001b[31m8.7 MB/s\u001b[0m eta \u001b[36m0:00:00\u001b[0m\n",
            "\u001b[?25h  Preparing metadata (setup.py) ... \u001b[?25l\u001b[?25hdone\n",
            "Building wheels for collected packages: annoy\n",
            "  Building wheel for annoy (setup.py) ... \u001b[?25l\u001b[?25hdone\n",
            "  Created wheel for annoy: filename=annoy-1.17.3-cp310-cp310-linux_x86_64.whl size=552452 sha256=e3c0ef60a10d1663f0396e398b858908557641439a305100dddb4621f1cae093\n",
            "  Stored in directory: /root/.cache/pip/wheels/64/8a/da/f714bcf46c5efdcfcac0559e63370c21abe961c48e3992465a\n",
            "Successfully built annoy\n",
            "Installing collected packages: annoy\n",
            "Successfully installed annoy-1.17.3\n"
          ]
        }
      ]
    },
    {
      "cell_type": "markdown",
      "source": [
        "##Tạo một vectorDB và thêm dữ liệu vào"
      ],
      "metadata": {
        "id": "n5MHWw1mYFlw"
      }
    },
    {
      "cell_type": "code",
      "source": [
        "from annoy import AnnoyIndex\n",
        "import random\n",
        "\n",
        "f = 128                          # Chiều của vector\n",
        "t = AnnoyIndex(f, 'angular')     # Angular distance index\n",
        "\n",
        "# Thêm dữ liệu vào index\n",
        "for i in range(1000):\n",
        "    v = [random.gauss(0, 1) for z in range(f)]\n",
        "    t.add_item(i, v)\n",
        "\n",
        "t.build(10)                      # Xây dựng 10 cây cho việc tìm kiếm\n",
        "t.save('test.ann')"
      ],
      "metadata": {
        "colab": {
          "base_uri": "https://localhost:8080/"
        },
        "id": "N8Ys9U-_X_Yp",
        "outputId": "5956be93-583c-4ee1-fd6d-cc489492be2d"
      },
      "execution_count": 6,
      "outputs": [
        {
          "output_type": "execute_result",
          "data": {
            "text/plain": [
              "True"
            ]
          },
          "metadata": {},
          "execution_count": 6
        }
      ]
    },
    {
      "cell_type": "markdown",
      "source": [
        "##Tìm kiếm các vector tương tự"
      ],
      "metadata": {
        "id": "kAZB29n4YHy8"
      }
    },
    {
      "cell_type": "code",
      "source": [
        "u = AnnoyIndex(f, 'angular')\n",
        "u.load('test.ann')\n",
        "\n",
        "# Tìm 10 vector gần nhất với vector có chỉ số 0\n",
        "print(u.get_nns_by_item(0, 10))"
      ],
      "metadata": {
        "colab": {
          "base_uri": "https://localhost:8080/"
        },
        "id": "gvU6jOwDYCNB",
        "outputId": "6fbd46cc-7457-48d3-f70c-2288540e55e6"
      },
      "execution_count": 7,
      "outputs": [
        {
          "output_type": "stream",
          "name": "stdout",
          "text": [
            "[0, 650, 450, 419, 749, 582, 363, 325, 122, 342]\n"
          ]
        }
      ]
    }
  ]
}